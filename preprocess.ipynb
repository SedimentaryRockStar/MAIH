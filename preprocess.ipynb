{
 "cells": [
  {
   "cell_type": "code",
   "execution_count": 212,
   "metadata": {},
   "outputs": [],
   "source": [
    "import csv\n",
    "import random\n",
    "import re\n",
    "import pandas as pd"
   ]
  },
  {
   "cell_type": "code",
   "execution_count": 213,
   "metadata": {},
   "outputs": [],
   "source": [
    "def remove_mention(tweet):\n",
    "    filter(lambda x:x[0]!='#', tweet.split())\n",
    "    new_tweet = \" \".join(filter(lambda x:x[0]!='@', tweet.split()))\n",
    "    return new_tweet\n",
    "\n",
    "def clean(tweet):\n",
    "    review = tweet.lower()\n",
    "    review = re.sub('<[A-Za-z\\/][^>]*>', '', review) \n",
    "    \n",
    "    allowed = \"qwertyuopasdfghjklizxcvbnm \"\n",
    "    stripped_str = \"\"\n",
    "    for characters in review:\n",
    "        if characters in allowed:\n",
    "            stripped_str += characters\n",
    "    \n",
    "    \n",
    "    return stripped_str"
   ]
  },
  {
   "cell_type": "code",
   "execution_count": 214,
   "metadata": {},
   "outputs": [],
   "source": [
    "with open('dev_sent_emo.csv') as csv_file:\n",
    "  csv_reader = csv.reader(csv_file)\n",
    "  colnames = next(csv_reader)  # skip column names\n",
    "  data = list(csv_reader)\n"
   ]
  },
  {
   "cell_type": "code",
   "execution_count": 215,
   "metadata": {},
   "outputs": [],
   "source": [
    "df = pd.DataFrame(data, columns =[\"Sr No\", \"Utterance\", \"Speaker\", \"Emotion\", \"Sentiment\", \"Dialogue_ID\", \"Utterance_ID\", \"Season\", \"Episode\", \"StartTime\", \"EndTime\"])"
   ]
  },
  {
   "cell_type": "code",
   "execution_count": 216,
   "metadata": {},
   "outputs": [],
   "source": [
    "df = df[[\"Utterance\", \"Emotion\"]]"
   ]
  },
  {
   "cell_type": "code",
   "execution_count": 217,
   "metadata": {},
   "outputs": [],
   "source": [
    "def lowercase(string):\n",
    "    return string.lower()\n",
    "\n",
    "df[\"Utterance\"] = df[\"Utterance\"].apply(lowercase)\n",
    "df.to_csv(\"friends_special_characters.csv\", index=False)"
   ]
  },
  {
   "cell_type": "code",
   "execution_count": 218,
   "metadata": {},
   "outputs": [],
   "source": [
    "df[\"Utterance\"] = df[\"Utterance\"].apply(clean)"
   ]
  },
  {
   "cell_type": "code",
   "execution_count": 219,
   "metadata": {},
   "outputs": [],
   "source": [
    "df.to_csv(\"friends_no_specialcharacters.csv\", index=False)"
   ]
  },
  {
   "cell_type": "code",
   "execution_count": 203,
   "metadata": {},
   "outputs": [],
   "source": []
  },
  {
   "cell_type": "code",
   "execution_count": 186,
   "metadata": {},
   "outputs": [],
   "source": []
  },
  {
   "cell_type": "code",
   "execution_count": null,
   "metadata": {},
   "outputs": [],
   "source": []
  },
  {
   "cell_type": "code",
   "execution_count": null,
   "metadata": {},
   "outputs": [],
   "source": []
  }
 ],
 "metadata": {
  "kernelspec": {
   "display_name": "Python 3",
   "language": "python",
   "name": "python3"
  },
  "language_info": {
   "codemirror_mode": {
    "name": "ipython",
    "version": 3
   },
   "file_extension": ".py",
   "mimetype": "text/x-python",
   "name": "python",
   "nbconvert_exporter": "python",
   "pygments_lexer": "ipython3",
   "version": "3.7.6"
  }
 },
 "nbformat": 4,
 "nbformat_minor": 4
}
